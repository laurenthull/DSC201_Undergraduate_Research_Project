{
 "cells": [
  {
   "cell_type": "markdown",
   "metadata": {
    "id": "L0DtZYo_1IMH"
   },
   "source": [
    "# Lost and Hungry in One of Europe’s Largest Cities? Let Us Recommend the Perfect Restaurant for You!"
   ]
  },
  {
   "cell_type": "markdown",
   "metadata": {},
   "source": [
    "Contributers: Josie Nelson and Lauren Thull"
   ]
  },
  {
   "cell_type": "markdown",
   "metadata": {
    "id": "lT1qsSQk1hLV"
   },
   "source": [
    "### Abstract:\n",
    "\n",
    "Finding a restaurant that aligns with one's taste preferences, particularly in unfamiliar cities, poses a challenging task for travelers. This study addresses a persistent query that confronts travelers exploring new destinations: where should we dine? Leveraging data from TripAdvisor and incorporating information from restaurants in 31 of Europe's largest cities, our system is designed to simplify the restaurant selection process for tourists. Our recommender system is intricately developed, taking into account pivotal factors such as cuisine type, location, price range, and rating. This approach ensures the provision of personalized restaurant recommendations tailored to the specific preferences of individual travelers. Conducting a thorough comparative analysis of collaborative filtering, content-based filtering, and hybrid models, we finalized our recommender system through a comprehensive evaluation. This ensures its capability to suggest the perfect restaurant based on the nuanced preferences of travelers. In essence, this research not only alleviates a significant pain point for tourists but also contributes a valuable tool to enhance their overall travel experience in European cities."
   ]
  },
  {
   "cell_type": "markdown",
   "metadata": {},
   "source": [
    "Dataset comes from Kaggle at https://www.kaggle.com/datasets/damienbeneschi/krakow-ta-restaurans-data-raw"
   ]
  },
  {
   "cell_type": "markdown",
   "metadata": {
    "id": "5k-Hqw7b2Mv3"
   },
   "source": [
    "### Importing dataset"
   ]
  },
  {
   "cell_type": "code",
   "execution_count": 4,
   "metadata": {},
   "outputs": [],
   "source": [
    "import pandas as pd\n",
    "\n",
    "# load csv to dataframe\n",
    "rest = pd.read_csv(\"TA_restaurants_curated.csv\")"
   ]
  },
  {
   "cell_type": "code",
   "execution_count": 5,
   "metadata": {
    "colab": {
     "base_uri": "https://localhost:8080/",
     "height": 310
    },
    "id": "CFBCa1Ge2oM-",
    "outputId": "60f9737d-fcb4-427b-db5b-ec23d38a695f"
   },
   "outputs": [
    {
     "data": {
      "text/html": [
       "<div>\n",
       "<style scoped>\n",
       "    .dataframe tbody tr th:only-of-type {\n",
       "        vertical-align: middle;\n",
       "    }\n",
       "\n",
       "    .dataframe tbody tr th {\n",
       "        vertical-align: top;\n",
       "    }\n",
       "\n",
       "    .dataframe thead th {\n",
       "        text-align: right;\n",
       "    }\n",
       "</style>\n",
       "<table border=\"1\" class=\"dataframe\">\n",
       "  <thead>\n",
       "    <tr style=\"text-align: right;\">\n",
       "      <th></th>\n",
       "      <th>Unnamed: 0</th>\n",
       "      <th>Name</th>\n",
       "      <th>City</th>\n",
       "      <th>Cuisine Style</th>\n",
       "      <th>Ranking</th>\n",
       "      <th>Rating</th>\n",
       "      <th>Price Range</th>\n",
       "      <th>Number of Reviews</th>\n",
       "      <th>Reviews</th>\n",
       "      <th>URL_TA</th>\n",
       "      <th>ID_TA</th>\n",
       "    </tr>\n",
       "  </thead>\n",
       "  <tbody>\n",
       "    <tr>\n",
       "      <th>0</th>\n",
       "      <td>0</td>\n",
       "      <td>Martine of Martine's Table</td>\n",
       "      <td>Amsterdam</td>\n",
       "      <td>['French', 'Dutch', 'European']</td>\n",
       "      <td>1.0</td>\n",
       "      <td>5.0</td>\n",
       "      <td>$$ - $$$</td>\n",
       "      <td>136.0</td>\n",
       "      <td>[['Just like home', 'A Warm Welcome to Wintry ...</td>\n",
       "      <td>/Restaurant_Review-g188590-d11752080-Reviews-M...</td>\n",
       "      <td>d11752080</td>\n",
       "    </tr>\n",
       "    <tr>\n",
       "      <th>1</th>\n",
       "      <td>1</td>\n",
       "      <td>De Silveren Spiegel</td>\n",
       "      <td>Amsterdam</td>\n",
       "      <td>['Dutch', 'European', 'Vegetarian Friendly', '...</td>\n",
       "      <td>2.0</td>\n",
       "      <td>4.5</td>\n",
       "      <td>$$$$</td>\n",
       "      <td>812.0</td>\n",
       "      <td>[['Great food and staff', 'just perfect'], ['0...</td>\n",
       "      <td>/Restaurant_Review-g188590-d693419-Reviews-De_...</td>\n",
       "      <td>d693419</td>\n",
       "    </tr>\n",
       "    <tr>\n",
       "      <th>2</th>\n",
       "      <td>2</td>\n",
       "      <td>La Rive</td>\n",
       "      <td>Amsterdam</td>\n",
       "      <td>['Mediterranean', 'French', 'International', '...</td>\n",
       "      <td>3.0</td>\n",
       "      <td>4.5</td>\n",
       "      <td>$$$$</td>\n",
       "      <td>567.0</td>\n",
       "      <td>[['Satisfaction', 'Delicious old school restau...</td>\n",
       "      <td>/Restaurant_Review-g188590-d696959-Reviews-La_...</td>\n",
       "      <td>d696959</td>\n",
       "    </tr>\n",
       "    <tr>\n",
       "      <th>3</th>\n",
       "      <td>3</td>\n",
       "      <td>Vinkeles</td>\n",
       "      <td>Amsterdam</td>\n",
       "      <td>['French', 'European', 'International', 'Conte...</td>\n",
       "      <td>4.0</td>\n",
       "      <td>5.0</td>\n",
       "      <td>$$$$</td>\n",
       "      <td>564.0</td>\n",
       "      <td>[['True five star dinner', 'A superb evening o...</td>\n",
       "      <td>/Restaurant_Review-g188590-d1239229-Reviews-Vi...</td>\n",
       "      <td>d1239229</td>\n",
       "    </tr>\n",
       "    <tr>\n",
       "      <th>4</th>\n",
       "      <td>4</td>\n",
       "      <td>Librije's Zusje Amsterdam</td>\n",
       "      <td>Amsterdam</td>\n",
       "      <td>['Dutch', 'European', 'International', 'Vegeta...</td>\n",
       "      <td>5.0</td>\n",
       "      <td>4.5</td>\n",
       "      <td>$$$$</td>\n",
       "      <td>316.0</td>\n",
       "      <td>[['Best meal.... EVER', 'super food experience...</td>\n",
       "      <td>/Restaurant_Review-g188590-d6864170-Reviews-Li...</td>\n",
       "      <td>d6864170</td>\n",
       "    </tr>\n",
       "  </tbody>\n",
       "</table>\n",
       "</div>"
      ],
      "text/plain": [
       "   Unnamed: 0                        Name       City  \\\n",
       "0           0  Martine of Martine's Table  Amsterdam   \n",
       "1           1         De Silveren Spiegel  Amsterdam   \n",
       "2           2                     La Rive  Amsterdam   \n",
       "3           3                    Vinkeles  Amsterdam   \n",
       "4           4   Librije's Zusje Amsterdam  Amsterdam   \n",
       "\n",
       "                                       Cuisine Style  Ranking  Rating  \\\n",
       "0                    ['French', 'Dutch', 'European']      1.0     5.0   \n",
       "1  ['Dutch', 'European', 'Vegetarian Friendly', '...      2.0     4.5   \n",
       "2  ['Mediterranean', 'French', 'International', '...      3.0     4.5   \n",
       "3  ['French', 'European', 'International', 'Conte...      4.0     5.0   \n",
       "4  ['Dutch', 'European', 'International', 'Vegeta...      5.0     4.5   \n",
       "\n",
       "  Price Range  Number of Reviews  \\\n",
       "0    $$ - $$$              136.0   \n",
       "1        $$$$              812.0   \n",
       "2        $$$$              567.0   \n",
       "3        $$$$              564.0   \n",
       "4        $$$$              316.0   \n",
       "\n",
       "                                             Reviews  \\\n",
       "0  [['Just like home', 'A Warm Welcome to Wintry ...   \n",
       "1  [['Great food and staff', 'just perfect'], ['0...   \n",
       "2  [['Satisfaction', 'Delicious old school restau...   \n",
       "3  [['True five star dinner', 'A superb evening o...   \n",
       "4  [['Best meal.... EVER', 'super food experience...   \n",
       "\n",
       "                                              URL_TA      ID_TA  \n",
       "0  /Restaurant_Review-g188590-d11752080-Reviews-M...  d11752080  \n",
       "1  /Restaurant_Review-g188590-d693419-Reviews-De_...    d693419  \n",
       "2  /Restaurant_Review-g188590-d696959-Reviews-La_...    d696959  \n",
       "3  /Restaurant_Review-g188590-d1239229-Reviews-Vi...   d1239229  \n",
       "4  /Restaurant_Review-g188590-d6864170-Reviews-Li...   d6864170  "
      ]
     },
     "execution_count": 5,
     "metadata": {},
     "output_type": "execute_result"
    }
   ],
   "source": [
    "rest.head()"
   ]
  },
  {
   "cell_type": "code",
   "execution_count": 6,
   "metadata": {
    "colab": {
     "base_uri": "https://localhost:8080/"
    },
    "id": "xGSrppLx2oO5",
    "outputId": "185d8eb7-7a57-4c8c-b75e-8066980b783e"
   },
   "outputs": [
    {
     "data": {
      "text/plain": [
       "(125527, 11)"
      ]
     },
     "execution_count": 6,
     "metadata": {},
     "output_type": "execute_result"
    }
   ],
   "source": [
    "rest.shape"
   ]
  },
  {
   "cell_type": "markdown",
   "metadata": {},
   "source": []
  },
  {
   "cell_type": "code",
   "execution_count": 7,
   "metadata": {
    "colab": {
     "base_uri": "https://localhost:8080/"
    },
    "id": "dBkced5K4qU0",
    "outputId": "853d908f-85ef-42d1-ce60-2a156f90c786"
   },
   "outputs": [
    {
     "data": {
      "text/plain": [
       "Index(['Unnamed: 0', 'Name', 'City', 'Cuisine Style', 'Ranking', 'Rating',\n",
       "       'Price Range', 'Number of Reviews', 'Reviews', 'URL_TA', 'ID_TA'],\n",
       "      dtype='object')"
      ]
     },
     "execution_count": 7,
     "metadata": {},
     "output_type": "execute_result"
    }
   ],
   "source": [
    "rest.columns"
   ]
  },
  {
   "cell_type": "markdown",
   "metadata": {
    "id": "3bMhuECpt7gs"
   },
   "source": [
    "## Data Cleaning and Preprocessing"
   ]
  },
  {
   "cell_type": "code",
   "execution_count": 8,
   "metadata": {
    "id": "NTuPq1-Y4vw4"
   },
   "outputs": [],
   "source": [
    "# create new column for restaurant ID\n",
    "column_to_rename = rest.columns[0]\n",
    "new_column_name = 'Restaurant_ID'\n",
    "\n",
    "rest = rest.rename(columns={column_to_rename: new_column_name})"
   ]
  },
  {
   "cell_type": "code",
   "execution_count": 9,
   "metadata": {
    "colab": {
     "base_uri": "https://localhost:8080/"
    },
    "id": "pAjLpl8so-2R",
    "outputId": "fcd46bb9-ea90-469a-8443-ed7910a763b2"
   },
   "outputs": [
    {
     "data": {
      "text/plain": [
       "Restaurant_ID          int64\n",
       "Name                  object\n",
       "City                  object\n",
       "Cuisine Style         object\n",
       "Ranking              float64\n",
       "Rating               float64\n",
       "Price Range           object\n",
       "Number of Reviews    float64\n",
       "Reviews               object\n",
       "URL_TA                object\n",
       "ID_TA                 object\n",
       "dtype: object"
      ]
     },
     "execution_count": 9,
     "metadata": {},
     "output_type": "execute_result"
    }
   ],
   "source": [
    "rest.dtypes"
   ]
  },
  {
   "cell_type": "code",
   "execution_count": 10,
   "metadata": {
    "colab": {
     "base_uri": "https://localhost:8080/"
    },
    "id": "p3rqAdBOqXHv",
    "outputId": "cfe4d7d3-aa00-4d9a-ae08-d728c2417302"
   },
   "outputs": [
    {
     "data": {
      "text/plain": [
       "Restaurant_ID            0\n",
       "Name                     0\n",
       "City                     0\n",
       "Cuisine Style        31351\n",
       "Ranking               9651\n",
       "Rating                9630\n",
       "Price Range          47855\n",
       "Number of Reviews    17344\n",
       "Reviews               9616\n",
       "URL_TA                   0\n",
       "ID_TA                    0\n",
       "dtype: int64"
      ]
     },
     "execution_count": 10,
     "metadata": {},
     "output_type": "execute_result"
    }
   ],
   "source": [
    "#checking for missing values\n",
    "rest.isnull()\n",
    "number_of_missing_values = rest.isnull().sum()\n",
    "number_of_missing_values"
   ]
  },
  {
   "cell_type": "code",
   "execution_count": 11,
   "metadata": {
    "colab": {
     "base_uri": "https://localhost:8080/"
    },
    "id": "15kHcf-WqXFs",
    "outputId": "e3d54ad8-a9d6-4868-8777-5fac56a4dba7"
   },
   "outputs": [],
   "source": [
    "# get rid of missing values\n",
    "rest = rest.dropna()"
   ]
  },
  {
   "cell_type": "code",
   "execution_count": 12,
   "metadata": {
    "colab": {
     "base_uri": "https://localhost:8080/"
    },
    "id": "3YrYxT2OqXBP",
    "outputId": "a9e17732-b3b5-4ef0-9b20-a371e63babeb"
   },
   "outputs": [
    {
     "data": {
      "text/plain": [
       "(74225, 11)"
      ]
     },
     "execution_count": 12,
     "metadata": {},
     "output_type": "execute_result"
    }
   ],
   "source": [
    "rest.shape"
   ]
  },
  {
   "cell_type": "markdown",
   "metadata": {},
   "source": [
    "This dataset was obtained from the Trip Advisor tourism website by scraping through reviews and restaurant listing pages. After dropping all rows with missing values, our cleaned dataset involved 74,225 different restaurants ranging across all of the 31 different cities. "
   ]
  },
  {
   "cell_type": "code",
   "execution_count": 13,
   "metadata": {
    "colab": {
     "base_uri": "https://localhost:8080/"
    },
    "id": "uZbELs-HqW-p",
    "outputId": "c28cb112-71b3-4d8d-f2c8-9facf7836f3c"
   },
   "outputs": [
    {
     "name": "stdout",
     "output_type": "stream",
     "text": [
      "       Price Range  Numeric Price\n",
      "0         $$ - $$$            2.5\n",
      "1             $$$$            4.0\n",
      "2             $$$$            4.0\n",
      "3             $$$$            4.0\n",
      "4             $$$$            4.0\n",
      "...            ...            ...\n",
      "125423    $$ - $$$            2.5\n",
      "125434    $$ - $$$            2.5\n",
      "125435    $$ - $$$            2.5\n",
      "125438        $$$$            4.0\n",
      "125445    $$ - $$$            2.5\n",
      "\n",
      "[74225 rows x 2 columns]\n"
     ]
    }
   ],
   "source": [
    "# change price to numeric rather than dollar signs\n",
    "def convert_price_range(price):\n",
    "    if isinstance(price, str):\n",
    "        if '-' in price:\n",
    "            # Handle the dash-separated ranges\n",
    "            min_range, max_range = price.split('-')\n",
    "            min_dollars = min_range.count('$')\n",
    "            max_dollars = max_range.count('$')\n",
    "            average_dollars = (min_dollars + max_dollars) / 2  # Calculate the average\n",
    "            return average_dollars\n",
    "        else:\n",
    "            # Handle single price entries without dashes\n",
    "            return price.count('$')\n",
    "    return None\n",
    "\n",
    "rest['Numeric Price'] = rest['Price Range'].apply(convert_price_range)\n",
    "\n",
    "print(rest[['Price Range', 'Numeric Price']])"
   ]
  },
  {
   "cell_type": "code",
   "execution_count": 14,
   "metadata": {
    "colab": {
     "base_uri": "https://localhost:8080/"
    },
    "id": "9pPy-PokqW35",
    "outputId": "afed9ed2-cfb5-4bd7-f961-7d0397689873"
   },
   "outputs": [],
   "source": [
    "# get rid of unhelpful columns\n",
    "columns_to_drop = [\"Price Range\", \"URL_TA\", \"ID_TA\",\"Reviews\"]\n",
    "rest = rest.drop(columns=columns_to_drop, axis=1)"
   ]
  },
  {
   "cell_type": "code",
   "execution_count": 15,
   "metadata": {},
   "outputs": [],
   "source": [
    "import numpy as np"
   ]
  },
  {
   "cell_type": "code",
   "execution_count": 16,
   "metadata": {},
   "outputs": [],
   "source": [
    "# create random user IDs to be able to use collaborative and hybrid filtering\n",
    "np.random.seed(42)\n",
    "rest['User_ID'] = np.random.randint(1, 20001, size=len(rest))"
   ]
  },
  {
   "cell_type": "code",
   "execution_count": 17,
   "metadata": {
    "colab": {
     "base_uri": "https://localhost:8080/",
     "height": 553
    },
    "id": "nXms45qVvBd2",
    "outputId": "8730d540-d3dd-4e89-c0ea-8133f27ec27d"
   },
   "outputs": [
    {
     "data": {
      "text/html": [
       "<div>\n",
       "<style scoped>\n",
       "    .dataframe tbody tr th:only-of-type {\n",
       "        vertical-align: middle;\n",
       "    }\n",
       "\n",
       "    .dataframe tbody tr th {\n",
       "        vertical-align: top;\n",
       "    }\n",
       "\n",
       "    .dataframe thead th {\n",
       "        text-align: right;\n",
       "    }\n",
       "</style>\n",
       "<table border=\"1\" class=\"dataframe\">\n",
       "  <thead>\n",
       "    <tr style=\"text-align: right;\">\n",
       "      <th></th>\n",
       "      <th>Restaurant_ID</th>\n",
       "      <th>Name</th>\n",
       "      <th>City</th>\n",
       "      <th>Cuisine Style</th>\n",
       "      <th>Ranking</th>\n",
       "      <th>Rating</th>\n",
       "      <th>Number of Reviews</th>\n",
       "      <th>Numeric Price</th>\n",
       "      <th>User_ID</th>\n",
       "    </tr>\n",
       "  </thead>\n",
       "  <tbody>\n",
       "    <tr>\n",
       "      <th>0</th>\n",
       "      <td>0</td>\n",
       "      <td>Martine of Martine's Table</td>\n",
       "      <td>Amsterdam</td>\n",
       "      <td>['French', 'Dutch', 'European']</td>\n",
       "      <td>1.0</td>\n",
       "      <td>5.0</td>\n",
       "      <td>136.0</td>\n",
       "      <td>2.5</td>\n",
       "      <td>15796</td>\n",
       "    </tr>\n",
       "    <tr>\n",
       "      <th>1</th>\n",
       "      <td>1</td>\n",
       "      <td>De Silveren Spiegel</td>\n",
       "      <td>Amsterdam</td>\n",
       "      <td>['Dutch', 'European', 'Vegetarian Friendly', '...</td>\n",
       "      <td>2.0</td>\n",
       "      <td>4.5</td>\n",
       "      <td>812.0</td>\n",
       "      <td>4.0</td>\n",
       "      <td>861</td>\n",
       "    </tr>\n",
       "    <tr>\n",
       "      <th>2</th>\n",
       "      <td>2</td>\n",
       "      <td>La Rive</td>\n",
       "      <td>Amsterdam</td>\n",
       "      <td>['Mediterranean', 'French', 'International', '...</td>\n",
       "      <td>3.0</td>\n",
       "      <td>4.5</td>\n",
       "      <td>567.0</td>\n",
       "      <td>4.0</td>\n",
       "      <td>5391</td>\n",
       "    </tr>\n",
       "    <tr>\n",
       "      <th>3</th>\n",
       "      <td>3</td>\n",
       "      <td>Vinkeles</td>\n",
       "      <td>Amsterdam</td>\n",
       "      <td>['French', 'European', 'International', 'Conte...</td>\n",
       "      <td>4.0</td>\n",
       "      <td>5.0</td>\n",
       "      <td>564.0</td>\n",
       "      <td>4.0</td>\n",
       "      <td>11965</td>\n",
       "    </tr>\n",
       "    <tr>\n",
       "      <th>4</th>\n",
       "      <td>4</td>\n",
       "      <td>Librije's Zusje Amsterdam</td>\n",
       "      <td>Amsterdam</td>\n",
       "      <td>['Dutch', 'European', 'International', 'Vegeta...</td>\n",
       "      <td>5.0</td>\n",
       "      <td>4.5</td>\n",
       "      <td>316.0</td>\n",
       "      <td>4.0</td>\n",
       "      <td>11285</td>\n",
       "    </tr>\n",
       "    <tr>\n",
       "      <th>5</th>\n",
       "      <td>5</td>\n",
       "      <td>Ciel Bleu Restaurant</td>\n",
       "      <td>Amsterdam</td>\n",
       "      <td>['Contemporary', 'International', 'Vegetarian ...</td>\n",
       "      <td>6.0</td>\n",
       "      <td>4.5</td>\n",
       "      <td>745.0</td>\n",
       "      <td>4.0</td>\n",
       "      <td>6266</td>\n",
       "    </tr>\n",
       "    <tr>\n",
       "      <th>6</th>\n",
       "      <td>6</td>\n",
       "      <td>Zaza's</td>\n",
       "      <td>Amsterdam</td>\n",
       "      <td>['French', 'International', 'Mediterranean', '...</td>\n",
       "      <td>7.0</td>\n",
       "      <td>4.5</td>\n",
       "      <td>1455.0</td>\n",
       "      <td>2.5</td>\n",
       "      <td>16851</td>\n",
       "    </tr>\n",
       "    <tr>\n",
       "      <th>7</th>\n",
       "      <td>7</td>\n",
       "      <td>Blue Pepper Restaurant And Candlelight Cruises</td>\n",
       "      <td>Amsterdam</td>\n",
       "      <td>['Asian', 'Indonesian', 'Vegetarian Friendly',...</td>\n",
       "      <td>8.0</td>\n",
       "      <td>4.5</td>\n",
       "      <td>675.0</td>\n",
       "      <td>4.0</td>\n",
       "      <td>4427</td>\n",
       "    </tr>\n",
       "    <tr>\n",
       "      <th>8</th>\n",
       "      <td>8</td>\n",
       "      <td>Teppanyaki Restaurant Sazanka</td>\n",
       "      <td>Amsterdam</td>\n",
       "      <td>['Japanese', 'Asian', 'Vegetarian Friendly', '...</td>\n",
       "      <td>9.0</td>\n",
       "      <td>4.5</td>\n",
       "      <td>923.0</td>\n",
       "      <td>4.0</td>\n",
       "      <td>14424</td>\n",
       "    </tr>\n",
       "    <tr>\n",
       "      <th>9</th>\n",
       "      <td>9</td>\n",
       "      <td>Rob Wigboldus Vishandel</td>\n",
       "      <td>Amsterdam</td>\n",
       "      <td>['Dutch', 'Seafood', 'Fast Food']</td>\n",
       "      <td>10.0</td>\n",
       "      <td>4.5</td>\n",
       "      <td>450.0</td>\n",
       "      <td>1.0</td>\n",
       "      <td>11364</td>\n",
       "    </tr>\n",
       "  </tbody>\n",
       "</table>\n",
       "</div>"
      ],
      "text/plain": [
       "   Restaurant_ID                                            Name       City  \\\n",
       "0              0                      Martine of Martine's Table  Amsterdam   \n",
       "1              1                             De Silveren Spiegel  Amsterdam   \n",
       "2              2                                         La Rive  Amsterdam   \n",
       "3              3                                        Vinkeles  Amsterdam   \n",
       "4              4                       Librije's Zusje Amsterdam  Amsterdam   \n",
       "5              5                            Ciel Bleu Restaurant  Amsterdam   \n",
       "6              6                                          Zaza's  Amsterdam   \n",
       "7              7  Blue Pepper Restaurant And Candlelight Cruises  Amsterdam   \n",
       "8              8                   Teppanyaki Restaurant Sazanka  Amsterdam   \n",
       "9              9                         Rob Wigboldus Vishandel  Amsterdam   \n",
       "\n",
       "                                       Cuisine Style  Ranking  Rating  \\\n",
       "0                    ['French', 'Dutch', 'European']      1.0     5.0   \n",
       "1  ['Dutch', 'European', 'Vegetarian Friendly', '...      2.0     4.5   \n",
       "2  ['Mediterranean', 'French', 'International', '...      3.0     4.5   \n",
       "3  ['French', 'European', 'International', 'Conte...      4.0     5.0   \n",
       "4  ['Dutch', 'European', 'International', 'Vegeta...      5.0     4.5   \n",
       "5  ['Contemporary', 'International', 'Vegetarian ...      6.0     4.5   \n",
       "6  ['French', 'International', 'Mediterranean', '...      7.0     4.5   \n",
       "7  ['Asian', 'Indonesian', 'Vegetarian Friendly',...      8.0     4.5   \n",
       "8  ['Japanese', 'Asian', 'Vegetarian Friendly', '...      9.0     4.5   \n",
       "9                  ['Dutch', 'Seafood', 'Fast Food']     10.0     4.5   \n",
       "\n",
       "   Number of Reviews  Numeric Price  User_ID  \n",
       "0              136.0            2.5    15796  \n",
       "1              812.0            4.0      861  \n",
       "2              567.0            4.0     5391  \n",
       "3              564.0            4.0    11965  \n",
       "4              316.0            4.0    11285  \n",
       "5              745.0            4.0     6266  \n",
       "6             1455.0            2.5    16851  \n",
       "7              675.0            4.0     4427  \n",
       "8              923.0            4.0    14424  \n",
       "9              450.0            1.0    11364  "
      ]
     },
     "execution_count": 17,
     "metadata": {},
     "output_type": "execute_result"
    }
   ],
   "source": [
    "# check for user ID\n",
    "rest.head(10)"
   ]
  },
  {
   "cell_type": "code",
   "execution_count": 18,
   "metadata": {
    "id": "lBtpogJG06Hm"
   },
   "outputs": [],
   "source": [
    "# change data types\n",
    "rest['Ranking'] = rest['Ranking'].astype(float)\n",
    "rest['Rating'] = rest['Rating'].astype(float)\n",
    "rest['Number of Reviews'] = rest['Number of Reviews'].astype(float)\n",
    "rest['Numeric Price'] = rest['Numeric Price'].astype(float)"
   ]
  },
  {
   "cell_type": "code",
   "execution_count": 19,
   "metadata": {},
   "outputs": [
    {
     "data": {
      "text/plain": [
       "Restaurant_ID          int64\n",
       "Name                  object\n",
       "City                  object\n",
       "Cuisine Style         object\n",
       "Ranking              float64\n",
       "Rating               float64\n",
       "Number of Reviews    float64\n",
       "Numeric Price        float64\n",
       "User_ID                int64\n",
       "dtype: object"
      ]
     },
     "execution_count": 19,
     "metadata": {},
     "output_type": "execute_result"
    }
   ],
   "source": [
    "# check data types\n",
    "rest.dtypes"
   ]
  },
  {
   "cell_type": "markdown",
   "metadata": {
    "id": "pig_MolG0MCV"
   },
   "source": [
    "## Content Based Recommender System"
   ]
  },
  {
   "cell_type": "code",
   "execution_count": 20,
   "metadata": {
    "id": "ho8gYYftxRVH"
   },
   "outputs": [],
   "source": [
    "# features to make recommendations based on\n",
    "features = ['City', 'Cuisine Style', 'Ranking', 'Rating', 'Numeric Price', 'Number of Reviews']"
   ]
  },
  {
   "cell_type": "code",
   "execution_count": 21,
   "metadata": {
    "id": "J1FfPUWv0RDh"
   },
   "outputs": [],
   "source": [
    "# combine features as string to make new column\n",
    "def combined_features(row):\n",
    "    return row['City']+ \" \"+row['Cuisine Style']+\" \" +str(row['Ranking'])+\" \"+str(row['Rating'])+\"  \"+str(row['Numeric Price'])+\"  \"+str(row['Number of Reviews'])"
   ]
  },
  {
   "cell_type": "code",
   "execution_count": 22,
   "metadata": {
    "colab": {
     "base_uri": "https://localhost:8080/",
     "height": 310
    },
    "id": "MKXzOtNp0VE_",
    "outputId": "d0f16645-8574-4b16-f50d-b8c06310bb01"
   },
   "outputs": [
    {
     "data": {
      "text/html": [
       "<div>\n",
       "<style scoped>\n",
       "    .dataframe tbody tr th:only-of-type {\n",
       "        vertical-align: middle;\n",
       "    }\n",
       "\n",
       "    .dataframe tbody tr th {\n",
       "        vertical-align: top;\n",
       "    }\n",
       "\n",
       "    .dataframe thead th {\n",
       "        text-align: right;\n",
       "    }\n",
       "</style>\n",
       "<table border=\"1\" class=\"dataframe\">\n",
       "  <thead>\n",
       "    <tr style=\"text-align: right;\">\n",
       "      <th></th>\n",
       "      <th>Restaurant_ID</th>\n",
       "      <th>Name</th>\n",
       "      <th>City</th>\n",
       "      <th>Cuisine Style</th>\n",
       "      <th>Ranking</th>\n",
       "      <th>Rating</th>\n",
       "      <th>Number of Reviews</th>\n",
       "      <th>Numeric Price</th>\n",
       "      <th>User_ID</th>\n",
       "      <th>combined_features</th>\n",
       "    </tr>\n",
       "  </thead>\n",
       "  <tbody>\n",
       "    <tr>\n",
       "      <th>0</th>\n",
       "      <td>0</td>\n",
       "      <td>Martine of Martine's Table</td>\n",
       "      <td>Amsterdam</td>\n",
       "      <td>['French', 'Dutch', 'European']</td>\n",
       "      <td>1.0</td>\n",
       "      <td>5.0</td>\n",
       "      <td>136.0</td>\n",
       "      <td>2.5</td>\n",
       "      <td>15796</td>\n",
       "      <td>Amsterdam ['French', 'Dutch', 'European'] 1.0 ...</td>\n",
       "    </tr>\n",
       "    <tr>\n",
       "      <th>1</th>\n",
       "      <td>1</td>\n",
       "      <td>De Silveren Spiegel</td>\n",
       "      <td>Amsterdam</td>\n",
       "      <td>['Dutch', 'European', 'Vegetarian Friendly', '...</td>\n",
       "      <td>2.0</td>\n",
       "      <td>4.5</td>\n",
       "      <td>812.0</td>\n",
       "      <td>4.0</td>\n",
       "      <td>861</td>\n",
       "      <td>Amsterdam ['Dutch', 'European', 'Vegetarian Fr...</td>\n",
       "    </tr>\n",
       "    <tr>\n",
       "      <th>2</th>\n",
       "      <td>2</td>\n",
       "      <td>La Rive</td>\n",
       "      <td>Amsterdam</td>\n",
       "      <td>['Mediterranean', 'French', 'International', '...</td>\n",
       "      <td>3.0</td>\n",
       "      <td>4.5</td>\n",
       "      <td>567.0</td>\n",
       "      <td>4.0</td>\n",
       "      <td>5391</td>\n",
       "      <td>Amsterdam ['Mediterranean', 'French', 'Interna...</td>\n",
       "    </tr>\n",
       "    <tr>\n",
       "      <th>3</th>\n",
       "      <td>3</td>\n",
       "      <td>Vinkeles</td>\n",
       "      <td>Amsterdam</td>\n",
       "      <td>['French', 'European', 'International', 'Conte...</td>\n",
       "      <td>4.0</td>\n",
       "      <td>5.0</td>\n",
       "      <td>564.0</td>\n",
       "      <td>4.0</td>\n",
       "      <td>11965</td>\n",
       "      <td>Amsterdam ['French', 'European', 'Internationa...</td>\n",
       "    </tr>\n",
       "    <tr>\n",
       "      <th>4</th>\n",
       "      <td>4</td>\n",
       "      <td>Librije's Zusje Amsterdam</td>\n",
       "      <td>Amsterdam</td>\n",
       "      <td>['Dutch', 'European', 'International', 'Vegeta...</td>\n",
       "      <td>5.0</td>\n",
       "      <td>4.5</td>\n",
       "      <td>316.0</td>\n",
       "      <td>4.0</td>\n",
       "      <td>11285</td>\n",
       "      <td>Amsterdam ['Dutch', 'European', 'International...</td>\n",
       "    </tr>\n",
       "  </tbody>\n",
       "</table>\n",
       "</div>"
      ],
      "text/plain": [
       "   Restaurant_ID                        Name       City  \\\n",
       "0              0  Martine of Martine's Table  Amsterdam   \n",
       "1              1         De Silveren Spiegel  Amsterdam   \n",
       "2              2                     La Rive  Amsterdam   \n",
       "3              3                    Vinkeles  Amsterdam   \n",
       "4              4   Librije's Zusje Amsterdam  Amsterdam   \n",
       "\n",
       "                                       Cuisine Style  Ranking  Rating  \\\n",
       "0                    ['French', 'Dutch', 'European']      1.0     5.0   \n",
       "1  ['Dutch', 'European', 'Vegetarian Friendly', '...      2.0     4.5   \n",
       "2  ['Mediterranean', 'French', 'International', '...      3.0     4.5   \n",
       "3  ['French', 'European', 'International', 'Conte...      4.0     5.0   \n",
       "4  ['Dutch', 'European', 'International', 'Vegeta...      5.0     4.5   \n",
       "\n",
       "   Number of Reviews  Numeric Price  User_ID  \\\n",
       "0              136.0            2.5    15796   \n",
       "1              812.0            4.0      861   \n",
       "2              567.0            4.0     5391   \n",
       "3              564.0            4.0    11965   \n",
       "4              316.0            4.0    11285   \n",
       "\n",
       "                                   combined_features  \n",
       "0  Amsterdam ['French', 'Dutch', 'European'] 1.0 ...  \n",
       "1  Amsterdam ['Dutch', 'European', 'Vegetarian Fr...  \n",
       "2  Amsterdam ['Mediterranean', 'French', 'Interna...  \n",
       "3  Amsterdam ['French', 'European', 'Internationa...  \n",
       "4  Amsterdam ['Dutch', 'European', 'International...  "
      ]
     },
     "execution_count": 22,
     "metadata": {},
     "output_type": "execute_result"
    }
   ],
   "source": [
    "rest[\"combined_features\"] = rest.apply(combined_features, axis =1)\n",
    "rest.head()"
   ]
  },
  {
   "cell_type": "code",
   "execution_count": 23,
   "metadata": {
    "colab": {
     "base_uri": "https://localhost:8080/"
    },
    "id": "zAk4_hys0Xz9",
    "outputId": "52fd0dc6-949c-4a97-8c94-d417cfc07696"
   },
   "outputs": [
    {
     "data": {
      "text/plain": [
       "0    Amsterdam ['French', 'Dutch', 'European'] 1.0 ...\n",
       "1    Amsterdam ['Dutch', 'European', 'Vegetarian Fr...\n",
       "2    Amsterdam ['Mediterranean', 'French', 'Interna...\n",
       "3    Amsterdam ['French', 'European', 'Internationa...\n",
       "4    Amsterdam ['Dutch', 'European', 'International...\n",
       "5    Amsterdam ['Contemporary', 'International', 'V...\n",
       "6    Amsterdam ['French', 'International', 'Mediter...\n",
       "7    Amsterdam ['Asian', 'Indonesian', 'Vegetarian ...\n",
       "8    Amsterdam ['Japanese', 'Asian', 'Vegetarian Fr...\n",
       "9    Amsterdam ['Dutch', 'Seafood', 'Fast Food'] 10...\n",
       "Name: combined_features, dtype: object"
      ]
     },
     "execution_count": 23,
     "metadata": {},
     "output_type": "execute_result"
    }
   ],
   "source": [
    "# check column\n",
    "rest['combined_features'].head(10)"
   ]
  },
  {
   "cell_type": "code",
   "execution_count": 24,
   "metadata": {
    "id": "OZnzpDKP0Xxn"
   },
   "outputs": [],
   "source": [
    "# make vectors to do cosine similarity\n",
    "from sklearn.feature_extraction.text import CountVectorizer\n",
    "\n",
    "count_vector = CountVectorizer()\n",
    "count_matrix = count_vector.fit_transform(rest[\"combined_features\"])"
   ]
  },
  {
   "cell_type": "code",
   "execution_count": 25,
   "metadata": {
    "colab": {
     "base_uri": "https://localhost:8080/"
    },
    "id": "xWAPucDy0XvC",
    "outputId": "a1c8f975-f0d4-4318-90c8-4d2ef1b468d3"
   },
   "outputs": [
    {
     "data": {
      "text/plain": [
       "array(['10', '100', '1000', ..., 'yunnan', 'zealand', 'zurich'],\n",
       "      dtype=object)"
      ]
     },
     "execution_count": 25,
     "metadata": {},
     "output_type": "execute_result"
    }
   ],
   "source": [
    "count_vector.get_feature_names_out()"
   ]
  },
  {
   "cell_type": "code",
   "execution_count": 26,
   "metadata": {
    "colab": {
     "base_uri": "https://localhost:8080/"
    },
    "id": "wEZaw4QW2HcU",
    "outputId": "9319b796-f518-4f75-a56f-50afd59479ec"
   },
   "outputs": [
    {
     "data": {
      "text/plain": [
       "(13463,)"
      ]
     },
     "execution_count": 26,
     "metadata": {},
     "output_type": "execute_result"
    }
   ],
   "source": [
    "count_vector.get_feature_names_out().shape"
   ]
  },
  {
   "cell_type": "code",
   "execution_count": 26,
   "metadata": {},
   "outputs": [],
   "source": [
    "from sklearn.metrics.pairwise import cosine_similarity\n",
    "\n",
    "# get name index in the dataframe for quick look-up\n",
    "name_index = pd.Series(rest.index, index=rest['Name']).to_dict()"
   ]
  },
  {
   "cell_type": "code",
   "execution_count": 27,
   "metadata": {},
   "outputs": [],
   "source": [
    "def get_index_from_name(name):\n",
    "    return name_index[name]\n",
    "\n",
    "def get_name_from_index(index):\n",
    "    return rest['Name'].iloc[index]"
   ]
  },
  {
   "cell_type": "code",
   "execution_count": 28,
   "metadata": {},
   "outputs": [],
   "source": [
    "def content_based_recommender(rest_name, num_of_rec=5):\n",
    "    name_idx = get_index_from_name(rest_name)\n",
    "    name_vec = count_vector.transform([rest['combined_features'].iloc[name_idx]])\n",
    "    cosine_sim = cosine_similarity(name_vec, count_matrix)\n",
    "\n",
    "    sim_scores = list(enumerate(cosine_sim[0]))\n",
    "    sim_scores = sorted(sim_scores, key=lambda x: x[1], reverse=True)\n",
    "\n",
    "    recommended_indices = []\n",
    "    recommended_restaurants = set()\n",
    "    for idx, score in sim_scores:\n",
    "        if rest['Name'].iloc[idx] not in recommended_restaurants:\n",
    "            recommended_indices.append(idx)\n",
    "            recommended_restaurants.add(rest['Name'].iloc[idx])\n",
    "            if len(recommended_indices) == num_of_rec + 1:\n",
    "                break\n",
    "\n",
    "    recommendations = [(rest['Name'].iloc[idx]) for idx in recommended_indices[1:]]\n",
    "    return recommendations"
   ]
  },
  {
   "cell_type": "code",
   "execution_count": 29,
   "metadata": {
    "id": "6vjFTG9t23JM"
   },
   "outputs": [],
   "source": [
    "# restaurant you visited\n",
    "name_visited = \"De Balie\""
   ]
  },
  {
   "cell_type": "code",
   "execution_count": 30,
   "metadata": {},
   "outputs": [],
   "source": [
    "def get_cuisine_style_from_dataset(item_description):\n",
    "    row = rest[rest['Name'] == item_description]\n",
    "    if not row.empty:\n",
    "        return row['Cuisine Style'].values[0]\n",
    "    else:\n",
    "        return \"Unknown\"\n"
   ]
  },
  {
   "cell_type": "code",
   "execution_count": 31,
   "metadata": {},
   "outputs": [
    {
     "name": "stdout",
     "output_type": "stream",
     "text": [
      " 5 similar restaurants you may like based on your interest in De Balie:\n",
      "**********************************************************\n",
      "1. De Vondeltuin\n",
      "   - Cuisine style: ['Dutch', 'Bar', 'International', 'European', 'Pub', 'Vegetarian Friendly']\n",
      "2. Bar Mick\n",
      "   - Cuisine style: ['Bar', 'European', 'Dutch', 'International', 'Pub']\n",
      "3. Brasserie Blazer\n",
      "   - Cuisine style: ['Bar', 'European', 'Pub', 'Dutch', 'International']\n",
      "4. Rooster Amsterdam\n",
      "   - Cuisine style: ['Dutch', 'Bar', 'European', 'Pub', 'International']\n",
      "5. Verhulst\n",
      "   - Cuisine style: ['Dutch', 'European', 'Bar', 'International', 'Pub']\n",
      "************************************************************\n",
      "                   *Content Based Model*                    \n"
     ]
    }
   ],
   "source": [
    "# final output for content based\n",
    "recommended_items = content_based_recommender(name_visited, 5)\n",
    "\n",
    "print(f\" 5 similar restaurants you may like based on your interest in {name_visited}:\")\n",
    "print(\"**********************************************************\")\n",
    "for idx, (restaurant_name) in enumerate(recommended_items):\n",
    "    print(f\"{idx+1}. {restaurant_name}\")\n",
    "    cuisine_style = get_cuisine_style_from_dataset(restaurant_name)  # Replace this with your logic\n",
    "    print(f\"   - Cuisine style: {cuisine_style}\")\n",
    "print(\"************************************************************\")\n",
    "print(\"                   *Content Based Model*                    \")"
   ]
  },
  {
   "cell_type": "markdown",
   "metadata": {},
   "source": [
    "## Collaborative Based Filtering"
   ]
  },
  {
   "cell_type": "code",
   "execution_count": 32,
   "metadata": {},
   "outputs": [],
   "source": [
    "#user-item interaction matrix\n",
    "user_item_matrix = rest.pivot_table(index='User_ID',columns='Name',values='Rating',aggfunc='sum',fill_value=0)\n",
    "\n"
   ]
  },
  {
   "cell_type": "code",
   "execution_count": 33,
   "metadata": {
    "scrolled": true
   },
   "outputs": [
    {
     "name": "stdout",
     "output_type": "stream",
     "text": [
      "<class 'pandas.core.frame.DataFrame'>\n",
      "Int64Index: 19515 entries, 1 to 20000\n",
      "Columns: 67862 entries, \"52\" Bistro Restauarnt and Bar to 美心酒家（Mei Xin Restaurant）\n",
      "dtypes: float64(35183), int64(32679)\n",
      "memory usage: 9.9 GB\n"
     ]
    },
    {
     "data": {
      "text/plain": [
       "(None,\n",
       " Name     \"52\" Bistro Restauarnt and Bar  \"Above\" Roof Top Restaurant  \\\n",
       " User_ID                                                                \n",
       " 1                                     0                            0   \n",
       " 2                                     0                            0   \n",
       " 3                                     0                            0   \n",
       " 4                                     0                            0   \n",
       " 5                                     0                            0   \n",
       " \n",
       " Name     \"Bistro Antidotum\"  \"Kepzeld el!\" Wine bar  \\\n",
       " User_ID                                               \n",
       " 1                         0                     0.0   \n",
       " 2                         0                     0.0   \n",
       " 3                         0                     0.0   \n",
       " 4                         0                     0.0   \n",
       " 5                         0                     0.0   \n",
       " \n",
       " Name     \"SPECIAL\" Hamburger & Italian Fast Food  #Citypie - Fast Slow Food  \\\n",
       " User_ID                                                                       \n",
       " 1                                            0.0                        0.0   \n",
       " 2                                            0.0                        0.0   \n",
       " 3                                            0.0                        0.0   \n",
       " 4                                            0.0                        0.0   \n",
       " 5                                            0.0                        0.0   \n",
       " \n",
       " Name     #Hashtag  #Marionett Craft Beer House  &Samhoud Places  'A Pazziella  \\\n",
       " User_ID                                                                         \n",
       " 1               0                          0.0              0.0           0.0   \n",
       " 2               0                          0.0              0.0           0.0   \n",
       " 3               0                          0.0              0.0           0.0   \n",
       " 4               0                          0.0              0.0           0.0   \n",
       " 5               0                          0.0              0.0           0.0   \n",
       " \n",
       " Name     ...  Αmandine  Εl Τaco Βueno  Εxou  Η Παληα Αθηνα  Ι Folia Chrysina  \\\n",
       " User_ID  ...                                                                   \n",
       " 1        ...       0.0              0     0            0.0               0.0   \n",
       " 2        ...       0.0              0     0            0.0               0.0   \n",
       " 3        ...       0.0              0     0            0.0               0.0   \n",
       " 4        ...       0.0              0     0            0.0               0.0   \n",
       " 5        ...       0.0              0     0            0.0               0.0   \n",
       " \n",
       " Name     Τhe Greco’s Sea Prj Monastiraki  Τα Φιλαρακια  \\\n",
       " User_ID                                                  \n",
       " 1                                    0.0             0   \n",
       " 2                                    0.0             0   \n",
       " 3                                    0.0             0   \n",
       " 4                                    0.0             0   \n",
       " 5                                    0.0             0   \n",
       " \n",
       " Name     ​Byward Kitchen and Bar  ​La Valona  美心酒家（Mei Xin Restaurant）  \n",
       " User_ID                                                                 \n",
       " 1                            0.0           0                       0.0  \n",
       " 2                            0.0           0                       0.0  \n",
       " 3                            0.0           0                       0.0  \n",
       " 4                            0.0           0                       0.0  \n",
       " 5                            0.0           0                       0.0  \n",
       " \n",
       " [5 rows x 67862 columns])"
      ]
     },
     "execution_count": 33,
     "metadata": {},
     "output_type": "execute_result"
    }
   ],
   "source": [
    "#  basic info + few rows of matrix\n",
    "(user_item_matrix.info(), user_item_matrix.head())"
   ]
  },
  {
   "cell_type": "code",
   "execution_count": 34,
   "metadata": {},
   "outputs": [
    {
     "data": {
      "text/plain": [
       "(19515, 67862)"
      ]
     },
     "execution_count": 34,
     "metadata": {},
     "output_type": "execute_result"
    }
   ],
   "source": [
    "user_item_matrix.shape"
   ]
  },
  {
   "cell_type": "markdown",
   "metadata": {},
   "source": [
    "### SVD"
   ]
  },
  {
   "cell_type": "code",
   "execution_count": 35,
   "metadata": {},
   "outputs": [],
   "source": [
    "# imports\n",
    "from scipy.sparse.linalg import svds"
   ]
  },
  {
   "cell_type": "code",
   "execution_count": 36,
   "metadata": {},
   "outputs": [],
   "source": [
    "# make data type float\n",
    "user_item_matrix_float = user_item_matrix.astype('float')"
   ]
  },
  {
   "cell_type": "code",
   "execution_count": 37,
   "metadata": {},
   "outputs": [],
   "source": [
    "# Singular Value Decomposition\n",
    "U, sigma, Vt = svds(user_item_matrix_float.values, k=50)  # k is the number of latent factors"
   ]
  },
  {
   "cell_type": "code",
   "execution_count": 38,
   "metadata": {},
   "outputs": [],
   "source": [
    "# sigma to a diagonal matrix\n",
    "sigma_diag_matrix = np.diag(sigma)"
   ]
  },
  {
   "cell_type": "code",
   "execution_count": 39,
   "metadata": {},
   "outputs": [
    {
     "data": {
      "text/plain": [
       "((19515, 67862), (19515, 67862))"
      ]
     },
     "execution_count": 39,
     "metadata": {},
     "output_type": "execute_result"
    }
   ],
   "source": [
    "# predicted ratings\n",
    "predicted_ratings = np.dot(np.dot(U, sigma_diag_matrix), Vt)\n",
    "\n",
    "#  shape of the predicted ratings (to compare to og make sure have all features)#hooray\n",
    "predicted_ratings.shape, user_item_matrix.shape"
   ]
  },
  {
   "cell_type": "code",
   "execution_count": 40,
   "metadata": {},
   "outputs": [],
   "source": [
    "# Create a DataFrame for predicted ratings\n",
    "predicted_ratings_df = pd.DataFrame(predicted_ratings,\n",
    "                                    columns=user_item_matrix.columns,\n",
    "                                    index=user_item_matrix.index)"
   ]
  },
  {
   "cell_type": "code",
   "execution_count": 41,
   "metadata": {},
   "outputs": [],
   "source": [
    "def svd_collab_rec(user_id, num_recommendations=5):\n",
    "    # check if user_id is in the user-item matrix\n",
    "    if user_id not in user_item_matrix.index:\n",
    "        raise ValueError(\"User ID not found in the user-item matrix.\")\n",
    "\n",
    "    # getting the index of user_id in the user-item matrix\n",
    "    user_idx = user_item_matrix.index.get_loc(user_id)\n",
    "\n",
    "    # predicted ratings for the user\n",
    "    user_predicted_ratings = predicted_ratings[user_idx, :]\n",
    "\n",
    "    # Id items that the user has not interacted with\n",
    "    user_actual_ratings = user_item_matrix.loc[user_id, :]\n",
    "    unrated_items_mask = user_actual_ratings == 0\n",
    "    unrated_items_idx = np.where(unrated_items_mask)[0]\n",
    "\n",
    "    # predicted ratings for unrated items and id top-rated items\n",
    "    unrated_predicted_ratings = user_predicted_ratings[unrated_items_idx]\n",
    "    top_rated_items_idx = unrated_items_idx[np.argsort(-unrated_predicted_ratings)[:num_recommendations]]\n",
    "\n",
    "    # descriptions of top-rated items\n",
    "    recommended_items = user_item_matrix.columns[top_rated_items_idx].tolist()\n",
    "\n",
    "    return recommended_items"
   ]
  },
  {
   "cell_type": "code",
   "execution_count": 42,
   "metadata": {},
   "outputs": [
    {
     "data": {
      "text/plain": [
       "['Sunny',\n",
       " 'Khartoum Cafe',\n",
       " 'MnM Gelato',\n",
       " 'da Roberto e Loretta',\n",
       " 'Le Petit Boileau']"
      ]
     },
     "execution_count": 42,
     "metadata": {},
     "output_type": "execute_result"
    }
   ],
   "source": [
    "# get recommendations for specified user\n",
    "svd_collab_rec(1234, num_recommendations=5)"
   ]
  },
  {
   "cell_type": "code",
   "execution_count": 43,
   "metadata": {},
   "outputs": [
    {
     "name": "stdout",
     "output_type": "stream",
     "text": [
      "       Restaurant_ID           Name       City  \\\n",
      "32168            225   Red Squirrel  Edinburgh   \n",
      "44563           3470        O Lirio     Lisbon   \n",
      "53434           7854  Pret a Manger     London   \n",
      "\n",
      "                                           Cuisine Style  Ranking  Rating  \\\n",
      "32168  ['Bar', 'British', 'Pub', 'Scottish', 'Vegetar...    226.0     4.0   \n",
      "44563        ['Mediterranean', 'European', 'Portuguese']   3474.0     3.0   \n",
      "53434                                        ['British']   7863.0     4.0   \n",
      "\n",
      "       Number of Reviews  Numeric Price  User_ID  \\\n",
      "32168              584.0            2.5     1234   \n",
      "44563              120.0            1.0     1234   \n",
      "53434               13.0            1.0     1234   \n",
      "\n",
      "                                       combined_features  \n",
      "32168  Edinburgh ['Bar', 'British', 'Pub', 'Scottish'...  \n",
      "44563  Lisbon ['Mediterranean', 'European', 'Portugue...  \n",
      "53434           London ['British'] 7863.0 4.0  1.0  13.0  \n"
     ]
    }
   ],
   "source": [
    "print(rest[rest['User_ID'] == 1234])"
   ]
  },
  {
   "cell_type": "code",
   "execution_count": 44,
   "metadata": {},
   "outputs": [
    {
     "name": "stdout",
     "output_type": "stream",
     "text": [
      "Recommended restaurants for User #1234:\n",
      "**********************************************************\n",
      "1. Sunny\n",
      "   - Cuisine style: ['Chinese', 'Japanese', 'Asian', 'Thai']\n",
      "2. Khartoum Cafe\n",
      "   - Cuisine style: ['Cafe', 'Fast Food', 'Middle Eastern', 'Vegetarian Friendly', 'Vegan Options']\n",
      "3. MnM Gelato\n",
      "   - Cuisine style: ['Cafe']\n",
      "4. da Roberto e Loretta\n",
      "   - Cuisine style: ['Italian', 'Mediterranean', 'Vegetarian Friendly', 'Gluten Free Options']\n",
      "5. Le Petit Boileau\n",
      "   - Cuisine style: ['French', 'European', 'Gastropub']\n",
      "************************************************************\n",
      "                  *Collaborative Model*                     \n"
     ]
    }
   ],
   "source": [
    "# final output of collaborative system \n",
    "userid = 1234\n",
    "recommended_items = svd_collab_rec(userid, 5)\n",
    "\n",
    "print(f\"Recommended restaurants for User #{userid}:\")\n",
    "print(\"**********************************************************\")\n",
    "for i, item_description in enumerate(recommended_items, 1):\n",
    "    print(f\"{i}. {item_description}\")\n",
    "    cuisine_style = get_cuisine_style_from_dataset(item_description)  \n",
    "    print(f\"   - Cuisine style: {cuisine_style}\")\n",
    "print(\"************************************************************\")\n",
    "print(\"                  *Collaborative Model*                     \")"
   ]
  },
  {
   "cell_type": "markdown",
   "metadata": {},
   "source": [
    "## Hybrid Model"
   ]
  },
  {
   "cell_type": "code",
   "execution_count": 45,
   "metadata": {},
   "outputs": [],
   "source": [
    "def hybrid_recommendation(user_id, rest_name, num_recommendations=5):\n",
    "    # Get recommendations from content-based model\n",
    "    content_recommendations = content_based_recommender(rest_name, num_recommendations*2)\n",
    "\n",
    "    # Get recommendations from collaborative model\n",
    "    collaborative_recommendations = svd_collab_rec(user_id, num_recommendations*2)\n",
    "\n",
    "    # combine recs and make sure no duplicates\n",
    "    combined_recommendations = list(set(content_recommendations + collaborative_recommendations))\n",
    "\n",
    "    # if too many recs - choose the top N\n",
    "    if len(combined_recommendations) > num_recommendations:\n",
    "        combined_recommendations = combined_recommendations[:num_recommendations]\n",
    "\n",
    "    print(f\"\\nRecommended items for User #{user_id}, based on visiting {rest_name}:\")\n",
    "    print(\"**********************************************************\")\n",
    "    for i, reco_item_description in enumerate(combined_recommendations, 1):\n",
    "    # Assuming get_cuisine_style_from_dataset() retrieves cuisine style from your dataset based on reco_item_description\n",
    "        cuisine_style = get_cuisine_style_from_dataset(reco_item_description)\n",
    "        print(f\"{i}. {reco_item_description}\")\n",
    "        print(f\"   - Cuisine type: {cuisine_style}\")\n",
    "    print(\"************************************************************\")\n"
   ]
  },
  {
   "cell_type": "code",
   "execution_count": 46,
   "metadata": {},
   "outputs": [],
   "source": [
    "def get_recommendations(rest, sim_scores, num_of_rec):\n",
    "    recommended_indices = []\n",
    "    recommended_restaurants = set()\n",
    "    \n",
    "    for idx, score in sim_scores:\n",
    "        if rest['Name'].iloc[idx] not in recommended_restaurants:\n",
    "            recommended_indices.append(idx)\n",
    "            recommended_restaurants.add(rest['Name'].iloc[idx])\n",
    "            if len(recommended_indices) == num_of_rec + 1:\n",
    "                break\n",
    "    \n",
    "    return recommended_indices"
   ]
  },
  {
   "cell_type": "code",
   "execution_count": 47,
   "metadata": {},
   "outputs": [],
   "source": [
    "def hybrid_recommendation(user_id, rest_name, k=10):\n",
    "\n",
    "  # k: number of recommended restaurants\n",
    "\n",
    "  # get index from the title\n",
    "    rest_index=get_index_from_name(rest_name)\n",
    "\n",
    "  # pairwise cosine value for given restaurant index\n",
    "    name_idx = get_index_from_name(rest_name)\n",
    "    name_vec = count_vector.transform([rest['combined_features'].iloc[name_idx]])\n",
    "    cosine_sim = cosine_similarity(name_vec, count_matrix)\n",
    "\n",
    "    sim_scores = list(enumerate(cosine_sim[0]))\n",
    "    sim_scores = sorted(sim_scores, key=lambda x: x[1], reverse=True)\n",
    "    \n",
    "    # Store indices for restaurants with high cosine value\n",
    "    recommended_indices = get_recommendations(rest, sim_scores, k)\n",
    "\n",
    "  # get restaurant id from recommended_indices\n",
    "    name_ids=[get_name_from_index(i) for i in recommended_indices]\n",
    "\n",
    "  # Get predicted value of the restaurant for the user\n",
    "    predicted_rating= [predicted_ratings_df.loc[user_id][i] for i in name_ids]\n",
    "\n",
    "  # making a dataframe with restaurant_ids with predicted value\n",
    "    rest_rating=pd.DataFrame({'Restaurant_ID': name_ids, 'PredRating': predicted_rating})\n",
    "\n",
    "  # Sort the DataFrame based on 'pred_ratings'\n",
    "    sorted_name_rating = rest_rating.sort_values(by='PredRating',ascending=False)\n",
    "\n",
    "  # Getting list of top k restaurant's restaurant id\n",
    "    top_k_name_ids= sorted_name_rating['Restaurant_ID'].values[0:k].tolist()\n",
    "\n",
    "    print(f\"\\nRecommended restaurants for User #{user_id} after visiting {rest_name} are:\")\n",
    "    print(\"**********************************************************\")\n",
    "    for i, name_id in enumerate(top_k_name_ids, 1):\n",
    "        movie_title = rest[rest['Restaurant_ID'] == name_id]['Name'].values\n",
    "        cuisine_style = get_cuisine_style_from_dataset(name_id)  # Assuming you have a function to fetch cuisine style from the ID\n",
    "        print(f\"{i}. {name_id}\")\n",
    "        # Adjust the 'movie_title' print as per the desired format\n",
    "        if len(movie_title) > 0:\n",
    "            print(f\"   - Title: {movie_title[0]}\")\n",
    "        print(f\"   - Cuisine Style: {cuisine_style}\")  # Print the cuisine style\n",
    "    print(\"**********************************************************\")\n",
    "    print(\"                  *Hybrid Model*                     \")\n"
   ]
  },
  {
   "cell_type": "code",
   "execution_count": 48,
   "metadata": {},
   "outputs": [
    {
     "name": "stdout",
     "output_type": "stream",
     "text": [
      "\n",
      "Recommended restaurants for User #1234 after visiting De Balie are:\n",
      "**********************************************************\n",
      "1. Brasserie Blazer\n",
      "   - Cuisine Style: ['Bar', 'European', 'Pub', 'Dutch', 'International']\n",
      "2. Kaap de Goede Hoop\n",
      "   - Cuisine Style: ['German', 'Dutch', 'European', 'Bar', 'International', 'Pub']\n",
      "3. Bar Mick\n",
      "   - Cuisine Style: ['Bar', 'European', 'Dutch', 'International', 'Pub']\n",
      "4. Rooster Amsterdam\n",
      "   - Cuisine Style: ['Dutch', 'Bar', 'European', 'Pub', 'International']\n",
      "5. Verhulst\n",
      "   - Cuisine Style: ['Dutch', 'European', 'Bar', 'International', 'Pub']\n",
      "**********************************************************\n",
      "                  *Hybrid Model*                     \n"
     ]
    }
   ],
   "source": [
    "# final output of hybrid filtering model\n",
    "user_id = 1234  # Example restaurant ID\n",
    "rest_name = \"De Balie\"  # restaurant name \n",
    "num_recommendations = 5  # Number of recs\n",
    "\n",
    "#Hybrid recs\n",
    "hybrid_recommendation(user_id, rest_name, num_recommendations)"
   ]
  },
  {
   "cell_type": "markdown",
   "metadata": {},
   "source": [
    "### Pros and Cons about each filtering method"
   ]
  },
  {
   "cell_type": "markdown",
   "metadata": {},
   "source": [
    "Content Based Filtering System:\n",
    "    Pros: \n",
    "         -Accurately recommended similar resturants to each resturant name it was provided\n",
    "    Cons:\n",
    "         -The restaurant that someone visited is coded into the model itself and cannot be changed with ease\n",
    "    \n",
    "Collaborative Filtering Sytem:\n",
    "    Pros:\n",
    "         -Accurately recommended resturants that the user may like\n",
    "    Cons:\n",
    "         -Data may not have been accurate. To simulate different user ids, we generated random numbers from 1-20000           and assigned them to random restarants and the data that went along with them. This caused the system to           give inaccurate results because the range of restaurants the user visited varied greatly due to its                 random state. \n",
    "\n",
    "Hybrid Filtering System:\n",
    "    Pros:\n",
    "         -Accurately took data from both content and collaborative systems and presented correctly to user\n",
    "    Cons:\n",
    "         -Because of the random nature of the collaboritive model, the hybrid model also had some inaccurate                 recommendations  "
   ]
  },
  {
   "cell_type": "markdown",
   "metadata": {},
   "source": [
    "After reviewing and comparing each of the models, we decided that the content based model gave the most accurate results. The inaccuracy of the other models was due to the random nature of the collaborative model. In the future, we hope to find a dataset that includes the id of the users that rated each restaurant to more accurately recommend similar restaurants. "
   ]
  }
 ],
 "metadata": {
  "colab": {
   "provenance": []
  },
  "kernelspec": {
   "display_name": "Python 3 (ipykernel)",
   "language": "python",
   "name": "python3"
  },
  "language_info": {
   "codemirror_mode": {
    "name": "ipython",
    "version": 3
   },
   "file_extension": ".py",
   "mimetype": "text/x-python",
   "name": "python",
   "nbconvert_exporter": "python",
   "pygments_lexer": "ipython3",
   "version": "3.11.4"
  }
 },
 "nbformat": 4,
 "nbformat_minor": 1
}
